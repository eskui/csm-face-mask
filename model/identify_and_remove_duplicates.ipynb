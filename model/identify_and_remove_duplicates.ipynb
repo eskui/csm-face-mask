{
 "cells": [
  {
   "cell_type": "code",
   "execution_count": 17,
   "metadata": {},
   "outputs": [],
   "source": [
    "from PIL import Image\n",
    "import os\n",
    "import glob"
   ]
  },
  {
   "cell_type": "code",
   "execution_count": 14,
   "metadata": {},
   "outputs": [],
   "source": [
    "test_mask = \"data/test/mask/\"\n",
    "test_no_mask = \"data/test/no_mask/\"\n",
    "train_mask = \"data/train/mask/\"\n",
    "train_no_mask = \"data/train/no_mask/\""
   ]
  },
  {
   "cell_type": "code",
   "execution_count": 38,
   "metadata": {},
   "outputs": [],
   "source": [
    "#Checks and returns duplicates in dir2\n",
    "def check_duplicates(dir1, dir2):\n",
    "    \n",
    "    files1 = glob.glob(dir1+\"/*.jpg\")\n",
    "    files2 = glob.glob(dir2+\"/*.jpg\")\n",
    "    \n",
    "    dupl = list()\n",
    "    \n",
    "    for p1 in files1:\n",
    "        im1 = Image.open(p1)\n",
    "        for p2 in files2:\n",
    "            im2 = Image.open(p2)\n",
    "            if list(im1.getdata()) == list(im2.getdata()):\n",
    "                dupl.append(p2)\n",
    "    return dupl"
   ]
  },
  {
   "cell_type": "code",
   "execution_count": 41,
   "metadata": {},
   "outputs": [],
   "source": [
    "mask=check_duplicates(test_mask,train_mask)"
   ]
  },
  {
   "cell_type": "code",
   "execution_count": 42,
   "metadata": {},
   "outputs": [],
   "source": [
    "no_mask = check_duplicates(test_no_mask,train_no_mask)"
   ]
  },
  {
   "cell_type": "code",
   "execution_count": 55,
   "metadata": {},
   "outputs": [],
   "source": [
    "def remove_duplicates(files):\n",
    "    not_removed = list()\n",
    "    for f in files:\n",
    "        if os.path.isfile(f):\n",
    "            os.remove(f)\n",
    "        else:\n",
    "            not_removed.append(f)\n",
    "    return print(\"these files were not found:\",not_removed)\n",
    "        "
   ]
  },
  {
   "cell_type": "code",
   "execution_count": 49,
   "metadata": {},
   "outputs": [],
   "source": [
    "remove_duplicates([\"test.txt\"])"
   ]
  },
  {
   "cell_type": "code",
   "execution_count": 46,
   "metadata": {},
   "outputs": [
    {
     "data": {
      "text/plain": [
       "['data/train/mask/asian_mask95.jpg',\n",
       " 'data/train/mask/asian_mask56.jpg',\n",
       " 'data/train/mask/asian_mask106.jpg',\n",
       " 'data/train/mask/asian_mask283.jpg',\n",
       " 'data/train/mask/new_29.jpg',\n",
       " 'data/train/mask/new_14.jpg',\n",
       " 'data/train/mask/asian_mask272.jpg',\n",
       " 'data/train/mask/asian_mask87.jpg',\n",
       " 'data/train/mask/new_11.jpg',\n",
       " 'data/train/mask/asian_mask261.jpg',\n",
       " 'data/train/mask/asian_mask47.jpg',\n",
       " 'data/train/mask/asian_mask46.jpg',\n",
       " 'data/train/mask/asian_mask193.jpg',\n",
       " 'data/train/mask/asian_mask85.jpg',\n",
       " 'data/train/mask/asian_mask207.jpg',\n",
       " 'data/train/mask/asian_mask60.jpg',\n",
       " 'data/train/mask/asian_mask35.jpg',\n",
       " 'data/train/mask/asian_mask181.jpg',\n",
       " 'data/train/mask/asian_mask20.jpg',\n",
       " 'data/train/mask/asian_mask161.jpg',\n",
       " 'data/train/mask/asian_mask204.jpg',\n",
       " 'data/train/mask/asian_mask58.jpg',\n",
       " 'data/train/mask/asian_mask199.jpg',\n",
       " 'data/train/mask/asian_mask52.jpg',\n",
       " 'data/train/mask/asian_mask198.jpg',\n",
       " 'data/train/mask/asian_mask173.jpg',\n",
       " 'data/train/mask/asian_mask28.jpg',\n",
       " 'data/train/mask/asian_mask26.jpg',\n",
       " 'data/train/mask/asian_mask214.jpg',\n",
       " 'data/train/mask/asian_mask66.jpg',\n",
       " 'data/train/mask/asian_mask30.jpg',\n",
       " 'data/train/mask/asian_mask174.jpg',\n",
       " 'data/train/mask/asian_mask175.jpg',\n",
       " 'data/train/mask/asian_mask57.jpg',\n",
       " 'data/train/mask/asian_mask203.jpg',\n",
       " 'data/train/mask/asian_mask9.jpg',\n",
       " 'data/train/mask/asian_mask144.jpg',\n",
       " 'data/train/mask/asian_mask150.jpg',\n",
       " 'data/train/mask/asian_mask9.jpg',\n",
       " 'data/train/mask/asian_mask144.jpg',\n",
       " 'data/train/mask/asian_mask35.jpg',\n",
       " 'data/train/mask/asian_mask181.jpg',\n",
       " 'data/train/mask/asian_mask227.jpg',\n",
       " 'data/train/mask/asian_mask68.jpg',\n",
       " 'data/train/mask/asian_mask224.jpg',\n",
       " 'data/train/mask/asian_mask72.jpg',\n",
       " 'data/train/mask/asian_mask11.jpg',\n",
       " 'data/train/mask/asian_mask25.jpg',\n",
       " 'data/train/mask/asian_mask155.jpg',\n",
       " 'data/train/mask/asian_mask296.jpg',\n",
       " 'data/train/mask/asian_mask141.jpg',\n",
       " 'data/train/mask/asian_mask196.jpg',\n",
       " 'data/train/mask/asian_mask37.jpg',\n",
       " 'data/train/mask/asian_mask182.jpg',\n",
       " 'data/train/mask/asian_mask38.jpg',\n",
       " 'data/train/mask/asian_mask168.jpg',\n",
       " 'data/train/mask/asian_mask37.jpg',\n",
       " 'data/train/mask/asian_mask182.jpg',\n",
       " 'data/train/mask/asian_mask38.jpg',\n",
       " 'data/train/mask/new_44.jpg',\n",
       " 'data/train/mask/asian_mask245.jpg',\n",
       " 'data/train/mask/new_37.jpg',\n",
       " 'data/train/mask/asian_mask266.jpg',\n",
       " 'data/train/mask/asian_mask90.jpg',\n",
       " 'data/train/mask/asian_mask88.jpg',\n",
       " 'data/train/mask/asian_mask63.jpg',\n",
       " 'data/train/mask/asian_mask76.jpg',\n",
       " 'data/train/mask/new_34.jpg',\n",
       " 'data/train/mask/new_21.jpg',\n",
       " 'data/train/mask/asian_mask286.jpg',\n",
       " 'data/train/mask/asian_mask204.jpg',\n",
       " 'data/train/mask/asian_mask58.jpg',\n",
       " 'data/train/mask/asian_mask295.jpg',\n",
       " 'data/train/mask/asian_mask123.jpg',\n",
       " 'data/train/mask/asian_mask6.jpg',\n",
       " 'data/train/mask/asian_mask137.jpg',\n",
       " 'data/train/mask/asian_mask275.jpg']"
      ]
     },
     "execution_count": 46,
     "metadata": {},
     "output_type": "execute_result"
    }
   ],
   "source": [
    "mask"
   ]
  },
  {
   "cell_type": "code",
   "execution_count": 45,
   "metadata": {},
   "outputs": [
    {
     "data": {
      "text/plain": [
       "['data/train/no_mask/176.jpg',\n",
       " 'data/train/no_mask/new_113.jpg',\n",
       " 'data/train/no_mask/163.jpg',\n",
       " 'data/train/no_mask/48.jpg',\n",
       " 'data/train/no_mask/new_105.jpg',\n",
       " 'data/train/no_mask/49.jpg',\n",
       " 'data/train/no_mask/164.jpg',\n",
       " 'data/train/no_mask/70.jpg',\n",
       " 'data/train/no_mask/198.jpg',\n",
       " 'data/train/no_mask/66.jpg',\n",
       " 'data/train/no_mask/72.jpg',\n",
       " 'data/train/no_mask/173.jpg',\n",
       " 'data/train/no_mask/new_261.jpg',\n",
       " 'data/train/no_mask/new_116.jpg',\n",
       " 'data/train/no_mask/102.jpg',\n",
       " 'data/train/no_mask/new_89.jpg',\n",
       " 'data/train/no_mask/new_198.jpg',\n",
       " 'data/train/no_mask/new_239.jpg',\n",
       " 'data/train/no_mask/12.jpg',\n",
       " 'data/train/no_mask/new_201.jpg',\n",
       " 'data/train/no_mask/new_67.jpg',\n",
       " 'data/train/no_mask/new_73.jpg',\n",
       " 'data/train/no_mask/new_189.jpg',\n",
       " 'data/train/no_mask/112.jpg',\n",
       " 'data/train/no_mask/13.jpg',\n",
       " 'data/train/no_mask/104.jpg',\n",
       " 'data/train/no_mask/110.jpg',\n",
       " 'data/train/no_mask/new_160.jpg',\n",
       " 'data/train/no_mask/new_149.jpg',\n",
       " 'data/train/no_mask/new_161.jpg',\n",
       " 'data/train/no_mask/new_203.jpg',\n",
       " 'data/train/no_mask/38.jpg',\n",
       " 'data/train/no_mask/new_83.jpg',\n",
       " 'data/train/no_mask/new_193.jpg',\n",
       " 'data/train/no_mask/109.jpg',\n",
       " 'data/train/no_mask/new_224.jpg',\n",
       " 'data/train/no_mask/new_218.jpg',\n",
       " 'data/train/no_mask/new_181.jpg',\n",
       " 'data/train/no_mask/new_143.jpg',\n",
       " 'data/train/no_mask/new_84.jpg',\n",
       " 'data/train/no_mask/18.jpg',\n",
       " 'data/train/no_mask/24.jpg',\n",
       " 'data/train/no_mask/30.jpg',\n",
       " 'data/train/no_mask/125.jpg',\n",
       " 'data/train/no_mask/new_237.jpg',\n",
       " 'data/train/no_mask/new_92.jpg',\n",
       " 'data/train/no_mask/new_196.jpg',\n",
       " 'data/train/no_mask/19.jpg',\n",
       " 'data/train/no_mask/42.jpg',\n",
       " 'data/train/no_mask/56.jpg',\n",
       " 'data/train/no_mask/195.jpg',\n",
       " 'data/train/no_mask/181.jpg',\n",
       " 'data/train/no_mask/7.jpg',\n",
       " 'data/train/no_mask/new_130.jpg',\n",
       " 'data/train/no_mask/new_119.jpg',\n",
       " 'data/train/no_mask/new_247.jpg',\n",
       " 'data/train/no_mask/83.jpg',\n",
       " 'data/train/no_mask/97.jpg',\n",
       " 'data/train/no_mask/new_257.jpg',\n",
       " 'data/train/no_mask/51.jpg',\n",
       " 'data/train/no_mask/new_241.jpg',\n",
       " 'data/train/no_mask/new_255.jpg',\n",
       " 'data/train/no_mask/153.jpg']"
      ]
     },
     "execution_count": 45,
     "metadata": {},
     "output_type": "execute_result"
    }
   ],
   "source": [
    "no_mask"
   ]
  },
  {
   "cell_type": "code",
   "execution_count": 56,
   "metadata": {},
   "outputs": [
    {
     "name": "stdout",
     "output_type": "stream",
     "text": [
      "these files were not found: ['data/train/mask/asian_mask95.jpg', 'data/train/mask/asian_mask56.jpg', 'data/train/mask/asian_mask106.jpg', 'data/train/mask/asian_mask283.jpg', 'data/train/mask/new_29.jpg', 'data/train/mask/new_14.jpg', 'data/train/mask/asian_mask272.jpg', 'data/train/mask/asian_mask87.jpg', 'data/train/mask/new_11.jpg', 'data/train/mask/asian_mask261.jpg', 'data/train/mask/asian_mask47.jpg', 'data/train/mask/asian_mask46.jpg', 'data/train/mask/asian_mask193.jpg', 'data/train/mask/asian_mask85.jpg', 'data/train/mask/asian_mask207.jpg', 'data/train/mask/asian_mask60.jpg', 'data/train/mask/asian_mask35.jpg', 'data/train/mask/asian_mask181.jpg', 'data/train/mask/asian_mask20.jpg', 'data/train/mask/asian_mask161.jpg', 'data/train/mask/asian_mask204.jpg', 'data/train/mask/asian_mask58.jpg', 'data/train/mask/asian_mask199.jpg', 'data/train/mask/asian_mask52.jpg', 'data/train/mask/asian_mask198.jpg', 'data/train/mask/asian_mask173.jpg', 'data/train/mask/asian_mask28.jpg', 'data/train/mask/asian_mask26.jpg', 'data/train/mask/asian_mask214.jpg', 'data/train/mask/asian_mask66.jpg', 'data/train/mask/asian_mask30.jpg', 'data/train/mask/asian_mask174.jpg', 'data/train/mask/asian_mask175.jpg', 'data/train/mask/asian_mask57.jpg', 'data/train/mask/asian_mask203.jpg', 'data/train/mask/asian_mask9.jpg', 'data/train/mask/asian_mask144.jpg', 'data/train/mask/asian_mask150.jpg', 'data/train/mask/asian_mask9.jpg', 'data/train/mask/asian_mask144.jpg', 'data/train/mask/asian_mask35.jpg', 'data/train/mask/asian_mask181.jpg', 'data/train/mask/asian_mask227.jpg', 'data/train/mask/asian_mask68.jpg', 'data/train/mask/asian_mask37.jpg', 'data/train/mask/asian_mask182.jpg', 'data/train/mask/asian_mask38.jpg', 'data/train/mask/asian_mask204.jpg', 'data/train/mask/asian_mask58.jpg']\n"
     ]
    }
   ],
   "source": [
    "remove_duplicates(mask)"
   ]
  },
  {
   "cell_type": "code",
   "execution_count": 57,
   "metadata": {},
   "outputs": [
    {
     "name": "stdout",
     "output_type": "stream",
     "text": [
      "these files were not found: []\n"
     ]
    }
   ],
   "source": [
    "remove_duplicates(no_mask)"
   ]
  },
  {
   "cell_type": "code",
   "execution_count": 58,
   "metadata": {},
   "outputs": [],
   "source": [
    "val_mask = \"data/val/mask/\"\n",
    "val_no_mask = \"data/val/no_mask/\""
   ]
  },
  {
   "cell_type": "code",
   "execution_count": 59,
   "metadata": {},
   "outputs": [],
   "source": [
    "val_mask_dupl = check_duplicates(train_mask,val_mask)\n",
    "val_no_mask_dupl = check_duplicates(train_no_mask,val_no_mask)"
   ]
  },
  {
   "cell_type": "code",
   "execution_count": 63,
   "metadata": {},
   "outputs": [
    {
     "name": "stdout",
     "output_type": "stream",
     "text": [
      "these files were not found: ['data/val/mask/asian_mask42.jpg', 'data/val/mask/asian_mask185.jpg', 'data/val/mask/asian_mask263.jpg', 'data/val/mask/asian_mask288.jpg', 'data/val/mask/asian_mask274.jpg', 'data/val/mask/asian_mask260.jpg', 'data/val/mask/asian_mask33.jpg', 'data/val/mask/asian_mask131.jpg', 'data/val/mask/asian_mask22.jpg', 'data/val/mask/asian_mask33.jpg', 'data/val/mask/asian_mask131.jpg', 'data/val/mask/asian_mask160.jpg', 'data/val/mask/asian_mask19.jpg', 'data/val/mask/asian_mask44.jpg', 'data/val/mask/asian_mask42.jpg', 'data/val/mask/asian_mask185.jpg', 'data/val/mask/asian_mask50.jpg', 'data/val/mask/asian_mask8.jpg', 'data/val/mask/asian_mask127.jpg', 'data/val/mask/asian_mask33.jpg', 'data/val/mask/asian_mask131.jpg', 'data/val/mask/asian_mask49.jpg', 'data/val/mask/asian_mask118.jpg', 'data/val/mask/asian_mask223.jpg', 'data/val/mask/asian_mask225.jpg', 'data/val/mask/asian_mask269.jpg']\n"
     ]
    }
   ],
   "source": [
    "remove_duplicates(val_mask_dupl)"
   ]
  },
  {
   "cell_type": "code",
   "execution_count": 64,
   "metadata": {},
   "outputs": [
    {
     "name": "stdout",
     "output_type": "stream",
     "text": [
      "these files were not found: []\n"
     ]
    }
   ],
   "source": [
    "remove_duplicates(val_no_mask_dupl)"
   ]
  }
 ],
 "metadata": {
  "kernelspec": {
   "display_name": "Python 3",
   "language": "python",
   "name": "python3"
  },
  "language_info": {
   "codemirror_mode": {
    "name": "ipython",
    "version": 3
   },
   "file_extension": ".py",
   "mimetype": "text/x-python",
   "name": "python",
   "nbconvert_exporter": "python",
   "pygments_lexer": "ipython3",
   "version": "3.8.5"
  }
 },
 "nbformat": 4,
 "nbformat_minor": 4
}
